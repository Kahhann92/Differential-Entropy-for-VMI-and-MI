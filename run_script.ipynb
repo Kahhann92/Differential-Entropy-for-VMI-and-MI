{
 "cells": [
  {
   "cell_type": "code",
   "execution_count": 4,
   "metadata": {},
   "outputs": [
    {
     "name": "stdout",
     "output_type": "stream",
     "text": [
      "Requirement already satisfied: mne in /opt/anaconda3/envs/data_processing_36/lib/python3.6/site-packages (0.23.4)\n",
      "Requirement already satisfied: scipy>=1.1.0 in /opt/anaconda3/envs/data_processing_36/lib/python3.6/site-packages (from mne) (1.5.4)\n",
      "Requirement already satisfied: numpy>=1.15.4 in /opt/anaconda3/envs/data_processing_36/lib/python3.6/site-packages (from mne) (1.19.5)\n",
      "Collecting utils\n",
      "  Downloading utils-1.0.1-py2.py3-none-any.whl (21 kB)\n",
      "Installing collected packages: utils\n",
      "Successfully installed utils-1.0.1\n"
     ]
    }
   ],
   "source": [
    "!pip install mne\n",
    "!pip install utils"
   ]
  },
  {
   "cell_type": "code",
   "execution_count": 2,
   "metadata": {},
   "outputs": [
    {
     "name": "stdout",
     "output_type": "stream",
     "text": [
      "Using TensorFlow backend.\n",
      "Reading data: 100%|█████████████████████████████| 22/22 [03:41<00:00, 10.07s/it]\n",
      "Resampling and Cropping data: 100%|█████████████| 22/22 [01:10<00:00,  3.19s/it]\n",
      "Average Rereferencing: 100%|████████████████████| 22/22 [00:10<00:00,  2.05it/s]\n",
      "Separate test set: 100%|████████████████████████| 22/22 [00:02<00:00, 10.92it/s]\n",
      "Using TensorFlow backend.\n",
      "Reading data: 100%|█████████████████████████████| 30/30 [06:01<00:00, 12.04s/it]\n",
      "Resampling and Cropping data: 100%|█████████████| 30/30 [04:33<00:00,  9.11s/it]\n",
      "Average Rereferencing: 100%|████████████████████| 30/30 [00:20<00:00,  1.48it/s]\n",
      "Separate test set: 100%|████████████████████████| 30/30 [00:07<00:00,  3.95it/s]\n"
     ]
    }
   ],
   "source": [
    "!python loadDataSet.py --datadir='pool' --random_test_index no\n",
    "!python loadDataSet.py --datadir='source' --random_test_index no"
   ]
  },
  {
   "cell_type": "code",
   "execution_count": 6,
   "metadata": {},
   "outputs": [],
   "source": [
    "\n",
    "!python trainModel_.py --supervision='supervised' --method='DE' --normalization='use'"
   ]
  },
  {
   "cell_type": "code",
   "execution_count": 1,
   "metadata": {},
   "outputs": [
    {
     "name": "stdout",
     "output_type": "stream",
     "text": [
      "Using TensorFlow backend.\n",
      "Preprocessing: 100%|████████████████████████████| 22/22 [08:03<00:00, 21.97s/it]\n",
      "Changing to ML data type: 100%|████████████████| 22/22 [00:00<00:00, 668.45it/s]\n",
      "Changing to ML data type: 100%|███████████████| 22/22 [00:00<00:00, 2431.74it/s]\n",
      "Will output at model/DE/unsupervised\n",
      "S0,75.00%\n",
      "S1,65.00%\n",
      "S2,75.00%\n",
      "S3,75.00%\n",
      "S4,55.00%\n",
      "S5,55.00%\n",
      "S6,60.00%\n",
      "S7,35.00%\n",
      "S8,60.00%\n",
      "S9,80.00%\n",
      "S10,55.00%\n",
      "S11,55.00%\n",
      "S12,70.00%\n",
      "S13,85.00%\n",
      "S14,55.00%\n",
      "S15,55.00%\n",
      "S16,45.00%\n",
      "S17,65.00%\n",
      "S18,60.00%\n",
      "S19,75.00%\n",
      "S20,65.00%\n",
      "S21,65.00%\n",
      "Total Average Score: 0.63%\n",
      "Group 1 Score: 0.51%\n",
      "Group 2 Score: 0.51%\n",
      "Group 3 Score: 0.47%\n",
      "Using TensorFlow backend.\n",
      "Preprocessing: 100%|████████████████████████████| 30/30 [08:31<00:00, 17.04s/it]\n",
      "Changing to ML data type: 100%|████████████████| 30/30 [00:00<00:00, 481.38it/s]\n",
      "Changing to ML data type: 100%|███████████████| 30/30 [00:00<00:00, 2352.96it/s]\n",
      "Will output at model/DE/supervised\n",
      "Training for subject 0\n",
      "Training for subject 1\n",
      "Training for subject 2\n",
      "Training for subject 3\n",
      "Training for subject 4\n",
      "Training for subject 5\n",
      "Training for subject 6\n",
      "Training for subject 7\n",
      "Training for subject 8\n",
      "Training for subject 9\n",
      "Training for subject 10\n",
      "Training for subject 11\n",
      "Training for subject 12\n",
      "Training for subject 13\n",
      "Training for subject 14\n",
      "Training for subject 15\n",
      "Training for subject 16\n",
      "Training for subject 17\n",
      "Training for subject 18\n",
      "Training for subject 19\n",
      "Training for subject 20\n",
      "Training for subject 21\n",
      "Training for subject 22\n",
      "Training for subject 23\n",
      "Training for subject 24\n",
      "Training for subject 25\n",
      "Training for subject 26\n",
      "Training for subject 27\n",
      "Training for subject 28\n",
      "Training for subject 29\n",
      "S0,85.00%\n",
      "S1,88.89%\n",
      "S2,86.11%\n",
      "S3,73.33%\n",
      "S4,63.89%\n",
      "S5,87.78%\n",
      "S6,73.89%\n",
      "S7,90.00%\n",
      "S8,81.67%\n",
      "S9,81.67%\n",
      "S10,85.00%\n",
      "S11,90.00%\n",
      "S12,84.44%\n",
      "S13,68.33%\n",
      "S14,91.67%\n",
      "S15,85.56%\n",
      "S16,81.67%\n",
      "S17,87.78%\n",
      "S18,94.44%\n",
      "S19,94.44%\n",
      "S20,96.67%\n",
      "S21,90.00%\n",
      "S22,80.56%\n",
      "S23,97.27%\n",
      "S24,86.67%\n",
      "S25,90.56%\n",
      "S26,82.22%\n",
      "S27,88.33%\n",
      "S28,89.44%\n",
      "S29,86.11%\n",
      "Total Average Score: 85.45%\n"
     ]
    }
   ],
   "source": [
    "import warnings\n",
    "warnings.filterwarnings(\"ignore\")\n",
    "!python trainModel_.py --supervision='unsupervised' --method='DE' --normalization='use'\n",
    "!python trainModel_.py --supervision='supervised' --method='DE' --normalization='use'"
   ]
  },
  {
   "cell_type": "code",
   "execution_count": 3,
   "metadata": {},
   "outputs": [
    {
     "name": "stdout",
     "output_type": "stream",
     "text": [
      "Using TensorFlow backend.\n",
      "Preprocessing: 100%|████████████████████████████| 22/22 [00:09<00:00,  2.26it/s]\n",
      "Changing to ML data type: 100%|█████████████████| 22/22 [01:17<00:00,  3.53s/it]\n",
      "Changing to ML data type: 100%|█████████████████| 22/22 [00:05<00:00,  4.23it/s]\n",
      "Will output at model/meshCNN/unsupervised\n",
      "Traceback (most recent call last):\n",
      "  File \"trainModel_.py\", line 71, in <module>\n",
      "    clss.pipe_lines(methods,train_data,train_label,test_data,test_label,norm_state = norm,supervision_state = supervision)\n",
      "  File \"/Users/kahhannteh/Documents/GitHub/weak-supervison-MI/classifier_methods.py\", line 186, in pipe_lines\n",
      "    model = initiate_meshed_cnn_model(train_data.shape[1:])\n",
      "  File \"/Users/kahhannteh/Documents/GitHub/weak-supervison-MI/classifier_methods.py\", line 42, in initiate_meshed_cnn_model\n",
      "    conv_block_1 = Conv3D(30,(4,4,25))(inputt)\n",
      "  File \"/Users/kahhannteh/.pyenv/versions/3.7.7/lib/python3.7/site-packages/keras/backend/tensorflow_backend.py\", line 75, in symbolic_fn_wrapper\n",
      "    return func(*args, **kwargs)\n",
      "  File \"/Users/kahhannteh/.pyenv/versions/3.7.7/lib/python3.7/site-packages/keras/engine/base_layer.py\", line 446, in __call__\n",
      "    self.assert_input_compatibility(inputs)\n",
      "  File \"/Users/kahhannteh/.pyenv/versions/3.7.7/lib/python3.7/site-packages/keras/engine/base_layer.py\", line 342, in assert_input_compatibility\n",
      "    str(K.ndim(x)))\n",
      "ValueError: Input 0 is incompatible with layer conv3d_1: expected ndim=5, found ndim=4\n",
      "Using TensorFlow backend.\n",
      "Preprocessing: 100%|████████████████████████████| 30/30 [00:13<00:00,  2.18it/s]\n",
      "Changing to ML data type:  40%|██████▊          | 12/30 [00:53<01:57,  6.52s/it]^C\n"
     ]
    }
   ],
   "source": [
    "!python trainModel_.py --supervision='unsupervised' --method='meshCNN' --normalization='train'\n",
    "!python trainModel_.py --supervision='supervised' --method='meshCNN' --normalization='use'"
   ]
  },
  {
   "cell_type": "code",
   "execution_count": null,
   "metadata": {},
   "outputs": [],
   "source": [
    "!python trainModel_.py --supervision='unsupervised-single' --method='meshcnn' --normalization='use'"
   ]
  },
  {
   "cell_type": "code",
   "execution_count": null,
   "metadata": {},
   "outputs": [],
   "source": [
    "!python trainModel_.py --supervision='supervised' --method='meshcnn' --normalization='use'\n"
   ]
  },
  {
   "cell_type": "code",
   "execution_count": null,
   "metadata": {},
   "outputs": [],
   "source": []
  }
 ],
 "metadata": {
  "kernelspec": {
   "display_name": "metabci37",
   "language": "python",
   "name": "python3"
  },
  "language_info": {
   "codemirror_mode": {
    "name": "ipython",
    "version": 3
   },
   "file_extension": ".py",
   "mimetype": "text/x-python",
   "name": "python",
   "nbconvert_exporter": "python",
   "pygments_lexer": "ipython3",
   "version": "3.7.16"
  },
  "vscode": {
   "interpreter": {
    "hash": "893a10bcbe6ed087d1b55af58cf4a85aa69e3aff09a0e8ae478fc4d052780039"
   }
  }
 },
 "nbformat": 4,
 "nbformat_minor": 4
}
